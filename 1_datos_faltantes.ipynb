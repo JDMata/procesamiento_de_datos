{
 "cells": [
  {
   "cell_type": "markdown",
   "id": "fb44f8fb-17b1-4ad6-8829-d66c86b98c4b",
   "metadata": {},
   "source": [
    "# Datos Faltantes"
   ]
  },
  {
   "cell_type": "code",
   "execution_count": null,
   "id": "01148085-3966-4035-a659-582d0e20bb3c",
   "metadata": {},
   "outputs": [],
   "source": [
    "# Importar librerías necesarias\n",
    "import pandas as pd\n",
    "import numpy as np\n",
    "from sklearn.datasets import load_diabetes\n",
    "from sklearn.impute import SimpleImputer, KNNImputer\n",
    "import matplotlib.pyplot as plt\n",
    "import seaborn as sns"
   ]
  },
  {
   "cell_type": "code",
   "execution_count": null,
   "id": "de071a79-ce2b-4444-85e8-a5f62a391a23",
   "metadata": {},
   "outputs": [],
   "source": [
    "# Cargar el conjunto de datos\n",
    "diabetes = load_diabetes(as_frame=True)\n",
    "data = diabetes.data\n",
    "data['target'] = diabetes.target"
   ]
  },
  {
   "cell_type": "code",
   "execution_count": null,
   "id": "869fa768-bc98-4d81-ae5b-2ab6b9b3c80b",
   "metadata": {},
   "outputs": [],
   "source": [
    "data.sample(10)"
   ]
  },
  {
   "cell_type": "code",
   "execution_count": null,
   "id": "42ce3a53-c8d5-4f1b-b94b-22f207199269",
   "metadata": {},
   "outputs": [],
   "source": [
    "# Simular valores faltantes\n",
    "np.random.seed(42)\n",
    "data.loc[data.sample(frac=0.1).index, 'bmi'] = np.nan\n",
    "data.loc[data.sample(frac=0.1).index, 'bp'] = np.nan"
   ]
  },
  {
   "cell_type": "markdown",
   "id": "e5636cb1-845e-4fa5-8f34-2449fe01faa9",
   "metadata": {},
   "source": [
    "# Ejercicios\n",
    "Contesta las siguientes preguntas. Para cada pregunta, deberás escribir código que demostrará cómo llegaste al resultado:"
   ]
  },
  {
   "cell_type": "markdown",
   "id": "0a01b889-f67d-44ba-a104-d4bf1bda5288",
   "metadata": {},
   "source": [
    "### 1. ¿Cuántos valores faltantes hay en cada columna?**"
   ]
  },
  {
   "cell_type": "code",
   "execution_count": null,
   "id": "826948b0-74e5-4edc-9380-ddddd4a0cbad",
   "metadata": {},
   "outputs": [],
   "source": []
  },
  {
   "cell_type": "markdown",
   "id": "08aedf31-efe1-4112-9f98-1bdf2f42ec04",
   "metadata": {},
   "source": [
    "### 2. Utiliza imputación simple (media) para llenar los valores faltantes de la columna 'bmi'."
   ]
  },
  {
   "cell_type": "code",
   "execution_count": null,
   "id": "16b6eeaa-6901-4216-a6d2-f13f228687d0",
   "metadata": {},
   "outputs": [],
   "source": []
  },
  {
   "cell_type": "markdown",
   "id": "2b99cbfe-4790-4db4-a817-61228a201320",
   "metadata": {},
   "source": [
    "### 3. Utiliza KNNImputer para imputar valores en las columnas 'bmi' y 'bp'. Compara los resultados con los de la imputación simple."
   ]
  },
  {
   "cell_type": "code",
   "execution_count": null,
   "id": "23b0d053-f30a-46a5-b640-c80153acd80a",
   "metadata": {},
   "outputs": [],
   "source": []
  },
  {
   "cell_type": "markdown",
   "id": "9b3b6f25-1965-44cf-ab21-4fc94fae9597",
   "metadata": {},
   "source": [
    "### 4. Genera un histograma comparando los datos antes y después de la imputación en la columna 'bmi'."
   ]
  },
  {
   "cell_type": "code",
   "execution_count": null,
   "id": "7a7485b3-eb4b-4487-aa04-df235c17bda7",
   "metadata": {},
   "outputs": [],
   "source": []
  }
 ],
 "metadata": {
  "kernelspec": {
   "display_name": "Python 3 (ipykernel)",
   "language": "python",
   "name": "python3"
  },
  "language_info": {
   "codemirror_mode": {
    "name": "ipython",
    "version": 3
   },
   "file_extension": ".py",
   "mimetype": "text/x-python",
   "name": "python",
   "nbconvert_exporter": "python",
   "pygments_lexer": "ipython3",
   "version": "3.13.0"
  }
 },
 "nbformat": 4,
 "nbformat_minor": 5
}
