{
 "cells": [
  {
   "cell_type": "markdown",
   "id": "1fd3894b-9742-445b-a299-4d21b92a355d",
   "metadata": {},
   "source": [
    "# Escalado\n",
    "Conjunto de datos: iris (incluido en sklearn)\n",
    "Este conjunto de datos es compacto y perfecto para demostrar técnicas de escalado."
   ]
  },
  {
   "cell_type": "code",
   "execution_count": null,
   "id": "5ad2bfdc-2b65-4205-8a50-09331ac07dfd",
   "metadata": {},
   "outputs": [],
   "source": [
    "# Importar librerías necesarias\n",
    "from sklearn.datasets import load_iris\n",
    "from sklearn.preprocessing import MinMaxScaler, StandardScaler\n",
    "import pandas as pd\n",
    "import matplotlib.pyplot as plt"
   ]
  },
  {
   "cell_type": "code",
   "execution_count": null,
   "id": "3043f401-40c2-4d7e-a0b2-9962c5a30909",
   "metadata": {},
   "outputs": [],
   "source": [
    "# Cargar el conjunto de datos\n",
    "iris = load_iris(as_frame=True)\n",
    "data = iris.data"
   ]
  },
  {
   "cell_type": "code",
   "execution_count": null,
   "id": "c785a731-0e1e-4817-9368-7b8ff252e9cd",
   "metadata": {},
   "outputs": [],
   "source": [
    "# Visualizar las estadísticas iniciales\n",
    "print(\"Estadísticas iniciales:\")\n",
    "data.describe()"
   ]
  },
  {
   "cell_type": "code",
   "execution_count": null,
   "id": "be448627-66e4-4114-8050-d447fbe2912b",
   "metadata": {},
   "outputs": [],
   "source": [
    "# Aplicar MinMaxScaler\n",
    "minmax_scaler = MinMaxScaler()\n",
    "data_minmax = pd.DataFrame(minmax_scaler.fit_transform(data), columns=data.columns)"
   ]
  },
  {
   "cell_type": "code",
   "execution_count": null,
   "id": "ec3f0bfc-21e6-401e-9f56-8f07a7432eb8",
   "metadata": {},
   "outputs": [],
   "source": [
    "# Aplicar StandardScaler\n",
    "standard_scaler = StandardScaler()\n",
    "data_standard = pd.DataFrame(standard_scaler.fit_transform(data), columns=data.columns)"
   ]
  },
  {
   "cell_type": "markdown",
   "id": "6a8a99ba-d7e2-4fec-ac6e-d25feeb40a13",
   "metadata": {},
   "source": [
    "# Ejercicios\n",
    "Contesta las siguientes preguntas. Para cada pregunta, deberás escribir código que demostrará cómo llegaste al resultado. Crea gráficas en donde veas correcto."
   ]
  },
  {
   "cell_type": "markdown",
   "id": "1d2d6b00-76f2-4640-9c9e-ad17e8426134",
   "metadata": {},
   "source": [
    "### 1. ¿Qué diferencias encuentras entre las estadísticas originales y las del escalado MinMax?\n"
   ]
  },
  {
   "cell_type": "code",
   "execution_count": null,
   "id": "d85339cd-4d35-4afa-9ad5-d6fd699b2f04",
   "metadata": {},
   "outputs": [],
   "source": []
  },
  {
   "cell_type": "markdown",
   "id": "13b39499-181d-4543-b2f8-2c1ae05bc820",
   "metadata": {},
   "source": [
    "### 2. Crea una gráfica de la distribución de la variable 'sepal length (cm)' antes y después del escalado."
   ]
  },
  {
   "cell_type": "code",
   "execution_count": null,
   "id": "ae4ee901-481b-439c-a3ea-46000b8f36ae",
   "metadata": {},
   "outputs": [],
   "source": []
  },
  {
   "cell_type": "markdown",
   "id": "5378fb1b-8695-4ac9-b488-44779b0b8319",
   "metadata": {},
   "source": [
    "### 3. Crea una gráfica de dispersión entre 'sepal length (cm)' y 'sepal width (cm)' con los datos escalados por StandardScaler."
   ]
  },
  {
   "cell_type": "code",
   "execution_count": null,
   "id": "916c1164-6646-4269-9f03-301391ed7f49",
   "metadata": {},
   "outputs": [],
   "source": []
  },
  {
   "cell_type": "markdown",
   "id": "01cb8c48-b136-4e56-9bcb-11ca2a0ad0fb",
   "metadata": {},
   "source": [
    "### 4. ¿Qué técnica de escalado crees que es más adecuada para este conjunto de datos? ¿Por qué?"
   ]
  },
  {
   "cell_type": "code",
   "execution_count": null,
   "id": "bb1e3e64-9442-4e2a-842e-7aa6a8bf9551",
   "metadata": {},
   "outputs": [],
   "source": []
  }
 ],
 "metadata": {
  "kernelspec": {
   "display_name": "Python 3 (ipykernel)",
   "language": "python",
   "name": "python3"
  },
  "language_info": {
   "codemirror_mode": {
    "name": "ipython",
    "version": 3
   },
   "file_extension": ".py",
   "mimetype": "text/x-python",
   "name": "python",
   "nbconvert_exporter": "python",
   "pygments_lexer": "ipython3",
   "version": "3.13.0"
  }
 },
 "nbformat": 4,
 "nbformat_minor": 5
}
